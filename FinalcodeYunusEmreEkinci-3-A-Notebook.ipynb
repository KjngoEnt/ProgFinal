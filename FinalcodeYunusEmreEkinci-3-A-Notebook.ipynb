{
 "cells": [
  {
   "cell_type": "code",
   "execution_count": 1,
   "metadata": {},
   "outputs": [
    {
     "name": "stdout",
     "output_type": "stream",
     "text": [
      "Tablo:\n",
      "    X  Y        Z\n",
      "0   1  3  Negatif\n",
      "1   2  5  Pozitif\n",
      "2   2  3  Pozitif\n",
      "3   3  9  Negatif\n",
      "4   4  7  Negatif\n",
      "5   5  2  Pozitif\n",
      "6   6  8  Pozitif\n",
      "7   8  6  Negatif\n",
      "8  10  6  Negatif\n",
      "9  11  1  Negatif\n",
      "\n",
      "X Koordinatları: [ 1  2  2  3  4  5  6  8 10 11]\n",
      "Y Koordinatları: [3 5 3 9 7 2 8 6 6 1]\n"
     ]
    }
   ],
   "source": [
    "import pandas as pd\n",
    "\n",
    "data = {\n",
    "    'X': [1, 2, 2, 3, 4, 5, 6, 8, 10, 11],\n",
    "    'Y': [3, 5, 3, 9, 7, 2, 8, 6, 6, 1],\n",
    "    'Z': ['Negatif', 'Pozitif', 'Pozitif', 'Negatif', 'Negatif', 'Pozitif', 'Pozitif', 'Negatif', 'Negatif', 'Negatif']\n",
    "}\n",
    "\n",
    "df = pd.DataFrame(data)\n",
    "\n",
    "print(\"Tablo:\")\n",
    "print(df)\n",
    "\n",
    "print(\"\\nX Koordinatları:\", df['X'].values)\n",
    "print(\"Y Koordinatları:\", df['Y'].values)\n"
   ]
  }
 ],
 "metadata": {
  "kernelspec": {
   "display_name": "Python 3",
   "language": "python",
   "name": "python3"
  },
  "language_info": {
   "codemirror_mode": {
    "name": "ipython",
    "version": 3
   },
   "file_extension": ".py",
   "mimetype": "text/x-python",
   "name": "python",
   "nbconvert_exporter": "python",
   "pygments_lexer": "ipython3",
   "version": "3.9.13"
  },
  "orig_nbformat": 4
 },
 "nbformat": 4,
 "nbformat_minor": 2
}
