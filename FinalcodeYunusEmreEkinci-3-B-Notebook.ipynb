{
 "cells": [
  {
   "cell_type": "code",
   "execution_count": null,
   "metadata": {},
   "outputs": [],
   "source": [
    "import pandas as pd\n",
    "import numpy as np\n",
    "\n",
    "data = {\n",
    "    'X': [1, 2, 2, 3, 4, 5, 6, 8, 10, 11],\n",
    "    'Y': [3, 5, 3, 9, 7, 2, 8, 6, 6, 1],\n",
    "    'Z': ['Negatif', 'Pozitif', 'Pozitif', 'Negatif', 'Negatif', 'Pozitif', 'Pozitif', 'Negatif', 'Negatif', 'Negatif']\n",
    "}\n",
    "new_x = 7\n",
    "new_y = 3\n",
    "\n",
    "df = pd.DataFrame(data)\n",
    "\n",
    "\n",
    "def euclidean_distance(x1, y1, x2, y2):\n",
    "    return np.sqrt((x1 - x2)**2 + (y1 - y2)**2)\n",
    "\n",
    "\n",
    "df['Distance'] = df.apply(lambda row: euclidean_distance(\n",
    "    row['X'], row['Y'], new_x, new_y), axis=1)\n",
    "\n",
    "df['YakinlikSirasi'] = df['Distance'].rank(ascending=True)\n",
    "\n",
    "print(\"Tablo:\")\n",
    "print(df)\n"
   ]
  }
 ],
 "metadata": {
  "language_info": {
   "name": "python"
  },
  "orig_nbformat": 4
 },
 "nbformat": 4,
 "nbformat_minor": 2
}
