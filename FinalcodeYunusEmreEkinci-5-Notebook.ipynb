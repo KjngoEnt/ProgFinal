{
 "cells": [
  {
   "cell_type": "code",
   "execution_count": 1,
   "metadata": {},
   "outputs": [
    {
     "name": "stdout",
     "output_type": "stream",
     "text": [
      "Doğrusal Regresyon Katsayıları:\n",
      "[[ 0.28856508 -0.15723852 -1.01561448  1.43096312]\n",
      " [ 0.8228869  -0.19566039  0.03656319 -0.51546696]\n",
      " [-1.11145198  0.35289892  0.9790513  -0.91549615]]\n",
      "-----------------------\n",
      "Yeni Örneğin Tahmin Edilen Sınıfı:\n",
      "[[0.8659897  0.00260431 0.13140599]]\n"
     ]
    }
   ],
   "source": [
    "import numpy as np\n",
    "from sklearn.linear_model import LinearRegression\n",
    "\n",
    "# Veriler\n",
    "X = np.array([[5.1, 3.5, 1.4, 0.2],\n",
    "              [4.9, 3.0, 1.4, 0.2],\n",
    "              [7.0, 3.2, 4.7, 1.4],\n",
    "              [6.4, 3.2, 4.5, 1.5],\n",
    "              [6.3, 3.3, 6.0, 2.5],\n",
    "              [5.8, 2.7, 5.1, 1.9]])\n",
    "\n",
    "Y = np.array([[1, 0, 0],\n",
    "              [1, 0, 0],\n",
    "              [0, 1, 0],\n",
    "              [0, 1, 0],\n",
    "              [0, 0, 1],\n",
    "              [0, 0, 1]])\n",
    "\n",
    "# Doğrusal regresyon modelini oluştur\n",
    "regression_model = LinearRegression()\n",
    "\n",
    "# Modeli eğit\n",
    "regression_model.fit(X, Y)\n",
    "\n",
    "# Katsayılar\n",
    "coef = regression_model.coef_\n",
    "\n",
    "# Yeni örneği tahmin et\n",
    "new_ex = np.array([5, 3.4, 1.5, 0.2]).reshape(1, -1)\n",
    "predicted_class = regression_model.predict(new_ex)\n",
    "\n",
    "# Katsayıları ve tahmin edilen sınıfı yazdır\n",
    "print(\"Doğrusal Regresyon Katsayıları:\")\n",
    "print(coef)\n",
    "print(\"-----------------------\")\n",
    "print(\"Yeni Örneğin Tahmin Edilen Sınıfı:\")\n",
    "print(predicted_class)\n"
   ]
  }
 ],
 "metadata": {
  "kernelspec": {
   "display_name": "base",
   "language": "python",
   "name": "python3"
  },
  "language_info": {
   "codemirror_mode": {
    "name": "ipython",
    "version": 3
   },
   "file_extension": ".py",
   "mimetype": "text/x-python",
   "name": "python",
   "nbconvert_exporter": "python",
   "pygments_lexer": "ipython3",
   "version": "3.9.13"
  },
  "orig_nbformat": 4
 },
 "nbformat": 4,
 "nbformat_minor": 2
}
