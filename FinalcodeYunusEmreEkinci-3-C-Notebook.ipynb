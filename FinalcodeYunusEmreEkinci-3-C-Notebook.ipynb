{
 "cells": [
  {
   "cell_type": "code",
   "execution_count": 1,
   "metadata": {},
   "outputs": [
    {
     "name": "stdout",
     "output_type": "stream",
     "text": [
      "En Yakın 3 Komşu:\n",
      "    X  Y        Z  Distance\n",
      "5   5  2  Pozitif  2.236068\n",
      "7   8  6  Negatif  3.162278\n",
      "8  10  6  Negatif  4.242641\n",
      "-----------------------\n",
      "Sınıf Sayıları:\n",
      "Negatif    2\n",
      "Pozitif    1\n",
      "Name: Z, dtype: int64\n",
      "-----------------------\n",
      "Yeni Örneğin Sınıfı:\n",
      "Negatif\n"
     ]
    }
   ],
   "source": [
    "import pandas as pd\n",
    "import numpy as np\n",
    "\n",
    "data = {\n",
    "    'X': [1, 2, 2, 3, 4, 5, 6, 8, 10, 11],\n",
    "    'Y': [3, 5, 3, 9, 7, 2, 8, 6, 6, 1],\n",
    "    'Z': ['Negatif', 'Pozitif', 'Pozitif', 'Negatif', 'Negatif', 'Pozitif', 'Pozitif', 'Negatif', 'Negatif', 'Negatif']\n",
    "}\n",
    "\n",
    "new_x = 7\n",
    "new_y = 3\n",
    "\n",
    "df = pd.DataFrame(data)\n",
    "\n",
    "\n",
    "def euclidean_distance(x1, y1, x2, y2):\n",
    "    return np.sqrt((x1 - x2)**2 + (y1 - y2)**2)\n",
    "\n",
    "\n",
    "df['Distance'] = df.apply(lambda row: euclidean_distance(\n",
    "    row['X'], row['Y'], new_x, new_y), axis=1)\n",
    "\n",
    "nearest_neighbors = df.nsmallest(3, 'Distance')\n",
    "\n",
    "class_counts = nearest_neighbors['Z'].value_counts()\n",
    "\n",
    "predicted_class = class_counts.idxmax()\n",
    "\n",
    "print(\"En Yakın 3 Komşu:\")\n",
    "print(nearest_neighbors)\n",
    "print(\"-----------------------\")\n",
    "print(\"Sınıf Sayıları:\")\n",
    "print(class_counts)\n",
    "print(\"-----------------------\")\n",
    "print(\"Yeni Örneğin Sınıfı:\")\n",
    "print(predicted_class)\n"
   ]
  }
 ],
 "metadata": {
  "kernelspec": {
   "display_name": "base",
   "language": "python",
   "name": "python3"
  },
  "language_info": {
   "codemirror_mode": {
    "name": "ipython",
    "version": 3
   },
   "file_extension": ".py",
   "mimetype": "text/x-python",
   "name": "python",
   "nbconvert_exporter": "python",
   "pygments_lexer": "ipython3",
   "version": "3.9.13"
  },
  "orig_nbformat": 4
 },
 "nbformat": 4,
 "nbformat_minor": 2
}
